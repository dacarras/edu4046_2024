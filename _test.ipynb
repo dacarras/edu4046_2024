{
  "cells": [
    {
      "cell_type": "raw",
      "metadata": {},
      "source": [
        "---\n",
        "title: \"Interacción entre variables\"\n",
        "subtitle: \"Relaciónes condicionales\"\n",
        "toc: true\n",
        "toc-expand: true\n",
        "toc-title: Contenido\n",
        "author:\n",
        "  - name: https://dacarras.github.io/\n",
        "date-modified: last-modified\n",
        "format:\n",
        "  html:\n",
        "    theme: journal\n",
        "    code-overflow: wrap\n",
        "    code-line-numbers: true\n",
        "    code-annotations: below\n",
        "    code-link: true\n",
        "    embed-resources: true\n",
        "    grid:\n",
        "      sidebar-width: 250px\n",
        "      body-width: 750px # 950px thinner, 1050px wider\n",
        "      margin-width: 400px\n",
        "      gutter-width: 1.5rem\n",
        "    header-includes: |\n",
        "      <link href=\"https://fonts.googleapis.com/css2?family=Noto+Sans:ital,wght@0,100..900;1,100..900&family=Source+Code+Pro:ital,wght@0,200..900;1,200..900&display=swap\" rel=\"stylesheet\">\n",
        "mainfont: Noto Sans\n",
        "monofont: Source Code Pro\n",
        "monofontoptions: \n",
        "  - Scale = 0.75\n",
        "---"
      ],
      "id": "e081d533"
    },
    {
      "cell_type": "markdown",
      "metadata": {},
      "source": [
        "```{css, echo = FALSE}\n",
        "\n",
        ".french {\n",
        "  text-indent: -30px;\n",
        "  position: absolute%;\n",
        "  padding-left: 40px%;\n",
        "}\n",
        "\n",
        "```\n",
        "\n",
        "\n",
        "# Bibliografía anotada\n",
        "\n",
        ".french[\n",
        "\n",
        "Jaccard, J., Wan, C. K., & Turrisi, R. (1990). The Detection and Interpretation of Interaction Effects Between Continuous Variables in Multiple Regression. Multivariate Behavioral Research, 25(October), 467–478. https://doi.org/10.1207/s15327906mbr2504\n",
        "\n",
        "]\n"
      ],
      "id": "2bb59ba5"
    }
  ],
  "metadata": {
    "kernelspec": {
      "display_name": "Python 3",
      "language": "python",
      "name": "python3"
    }
  },
  "nbformat": 4,
  "nbformat_minor": 5
}